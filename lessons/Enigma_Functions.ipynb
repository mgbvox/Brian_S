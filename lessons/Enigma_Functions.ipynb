{
 "cells": [
  {
   "cell_type": "code",
   "execution_count": 1,
   "metadata": {},
   "outputs": [
    {
     "name": "stdout",
     "output_type": "stream",
     "text": [
      "Populating the interactive namespace from numpy and matplotlib\n"
     ]
    }
   ],
   "source": [
    "%pylab inline\n",
    "\n",
    "import string\n",
    "import re\n",
    "from tqdm import tqdm"
   ]
  },
  {
   "cell_type": "code",
   "execution_count": 16,
   "metadata": {},
   "outputs": [],
   "source": [
    "def gen_rotor(chars):\n",
    "    scrambled = np.random.choice(list(chars), len(chars), replace=False)\n",
    "    return dict(zip(list(chars), scrambled))\n",
    "\n",
    "def shift(r, n):\n",
    "    imap = {i:v for i, (k,v) in enumerate(r.items())}\n",
    "    return {k:imap[(i+n)%len(imap)] for i, (k,v) in enumerate(r.items())}\n",
    "\n",
    "def forward(c, r_set):\n",
    "    e_hist = []\n",
    "    e = c\n",
    "    for r in r_set:\n",
    "        e_hist.append(e)\n",
    "        e = r[e]\n",
    "    return e\n",
    "\n",
    "def rdict(d):\n",
    "    return {v:k for k,v in d.items()}\n",
    "\n",
    "def backward(e, r_set):\n",
    "    c_hist = []\n",
    "    c = e\n",
    "    for r in r_set[::-1]:\n",
    "        r = rdict(r) #reverse dict\n",
    "        c_hist.append(c)\n",
    "        c = r[c]\n",
    "    return c\n",
    "\n",
    "def encode(s):\n",
    "    print('Encoding...')\n",
    "    res = ''\n",
    "    for n, c in enumerate(s):\n",
    "        r_set = shift_sets[n]\n",
    "        res += forward(c, r_set)\n",
    "    return res\n",
    "\n",
    "def decode(es):\n",
    "    print('Decoding...')\n",
    "    res = ''\n",
    "    for n, e in enumerate(es):\n",
    "        r_set = shift_sets[n]\n",
    "        res += backward(e, r_set)\n",
    "    return res\n",
    "\n",
    "def read_text(path):\n",
    "    with open(path, 'r') as f:\n",
    "        text = ' '.join([l.strip() for l in f.readlines()])\n",
    "        text = re.sub(f'[^{chars}]', '', text)\n",
    "        return text"
   ]
  },
  {
   "cell_type": "code",
   "execution_count": 17,
   "metadata": {},
   "outputs": [],
   "source": [
    "chars = string.printable\n",
    "\n",
    "path = 'assets/message.txt'\n",
    "s = read_text(path)\n",
    "\n",
    "n_rotors = 5\n",
    "#Generate char cypher rotors (one-to-one mapping ch1 to ch2)\n",
    "rotors = [gen_rotor(chars) for _ in range(n_rotors)]\n",
    "#Pre-calculate shifted rotors for each timestep in the encoding process.\n",
    "shift_sets = {n:[shift(r,n) for r in rotors] for n,c in enumerate(s)}"
   ]
  },
  {
   "cell_type": "code",
   "execution_count": 18,
   "metadata": {},
   "outputs": [
    {
     "name": "stdout",
     "output_type": "stream",
     "text": [
      "Encoding...\n"
     ]
    },
    {
     "data": {
      "text/plain": [
       "'e_\\tPX?\\\\fK=_@lOC\\x0b`HG~5=2Ua-EQ&U~$vwx1b*eWefIDlDPtm[o[k\\\\1c-%#GM}X#up\"bMCo\\ng\\nYq8V6$;Y=7-@\\x0cQ)J%:4\\r\\\\eb,XVL.\\'\\r[Ej6<z]%/AZ \\x0cua$JRDxH]m\\'z-L$NK<8t`$|\\r;$wt\\\\@Q8lldA3/1Es]-M)bvCPibG3@aIuTik2}-BklVTIW^[wpaV9\\\\%j\\t\\n2tY\\'\\r|~[t^.X-i&5=B%.$9S2\\x0cju<\\t!F_IsB<{YPqYovL\\x0b\\x0c\\\\jT1QLH\\n>EsP%>L]bexUoO@`?9\\ns^qe@EMp>-f\\\\@IWQ_]SfGX\\r^H8XU6YShOEjj4.Cs_t5@dRaw]<0FoOPWa&L&.t;1w1 YyG$z\\\\`!q1mZ\\'<!>:/8~XMcLa\\x0c/ @X?HsZ\\tUxVB6N;zDVTIW^[wpai9)Vb8\\nOMg]9+=gT>zC%i/5?\\\\e-{e$Vq?9P6V;E&Nt<?:re%]X9\\ta:-_LR\\x0c\\'4[EkR%Pc2A=9KKjX\\'s]q!|\"%A}S\\x0b\\x0c3?-TV$e\"l[oB\\r\\\\}!j\\n2xv]a\\'Ja$6zPjwoZf\\\\ u$y<]=s]M*c,E*3xPyty*PAHXgSF.Q1;KG\\x0cZZ&/b>H];CfG[O2E\":\\ng\\nYe}2\"lwS|r\\nbIx_C%kV^%1z\\';RYYaOa= fCd)jf)5\\x0cJJ?\\rH$OzF]O\\'s;\\tZf \"F=sePZHo*X5E_JP^0<@{k/\\x0c]~2Smp%[k\\nE~EXptYpA%S&B}gr/z-eql}nJQ\\\\F~Ngc`Qa [oz(|z]%/.4K{J?XekD%o3H<>T*3\\rLXrY5+j\"}#*tT.?1UZ@\\nZZk/mb-M@mxX#O5W?7z2\\nip\"B^\\x0bBOD-8\\t+^_q% U7-Rb;ogZgf9[yhj^f~{,/r:>q\\r(H&2a?fy\\x0cgfL%5th|z@s|\\rb;waT7Q}\\x0bvo,41x)%j-]V$^\\x0b/u(\\'bDfATR-@B|wwOg5-b# [Cp:U7-Rb7X>`gaua677^p,3zgri\\rt=(yQy|V-<\\'jTi$U%X,JrT|\\rT*tao9\\x0c_I<>\\x0cCP{MC]Db{L;J|e2+b@a[^kl+JMp&BD7RIKV[]~`U5\\nVj=\\nRKg4hC,gDVz1jegrgnJup/e>\\rH|Cs}3\\r+3Bn?:|s|yb*.a?9_}\"ldQ;\\x0cHh%B`P{b9\\x0b/#9G3>hoMYy8}Sp9BD t509kC\\n:ar\\\\127\\n2tQ29}3E)U.\\\\Y,brgnJu=h N$V/}\\'tvXi\\rm4\\t]5Abob$.y5+$KZ=H~_1P)%BX^;-t\\x0b/VrE[jhP\\t\\x0b*P.h\\x0b\\x0ckv7@\\'\\x0cXkX\\ntuU\\\\xz\\t\\n2tVe9[y!f1la<fx,@_JW%9Jr=j\\x0bPfsNEGW+21l@5bY!\\\\E4F._M8Z0,f21(j.;\\rV!uK\\'o(+~h !-\"%A4b(8}g7/I\\x0bQ+w~!U%\\nEb8Be{>I]|o[6/81<wvVHJE&%kRNqhEP!sc%Z.B\"g+5\\x0cbor[EaT*|KAZ\\'4>/lO%\\'u^VdUWPV-W?p\"[Moe42eZBtY|Tnme)Cb&U%&Vj=\\nRqgfn+3Ef4.&s*qZ=\\x0bt=pe r\\rj\\x0bG\\'8Fx%txMBt%*kA;Y*t\\\\+l&)</_rbkR(ZX^\\rCvC|o[JEE|pJYqf^egB-lV8$\\x0bQc*YoUX`1>_\\x0cRY=6]g\\x0cj0/e~[*vkH\\\\t=pe%>o?Tys}gEKM_Xn+UT|\\rT*taW7:?U^d\\x0cDLkbM?-M)eaG/oXJEjrpTRlA!M(Qtg-e$KBql[nVKoV!ZBg_mSh`dj&>f\"}fR,J\\\\t6jJQ2\\noYA*sa|$-%:yYX*H7bg\\x0bW67_~\\tK,~S1P)%lXP[_G!/rDE?C\"=M\\x0bIA9Cp&BD75$I#T]%:Bb6RG~,eKga,[\\x0ch)\\x0coX+iUV{{tayd)Oq}/U{HT|\\\\[2;1t`eB\"7[i\\x0cFilM\\x0bKd`rLO0U]DGl^3\\x0b7OXb?Uz[Mkx@`opjT?72$K9\\'\\r}aj!%^2~NPZg-[Ct!D1#/sZqrgnJu\\r#%2ze-\\\\x\\\\p<$-%X153zj\"X$rw`75*hL0<c:[E*lDlG$fK#kOJp]ae\\x0bu7L2h6jzw\\\\[$sQYV~cUMo02_!RZi\\' |ogD<la}_qa_Xt:w/e2fZ/P.}[\\rIs%O6*{euob&gSF+\\x0b1I^L~B:y/G.M]_1u\\x0bo<9 b>hpo\",4&lQQ)|f-5K9_*}oUq\\\\\\nb7NHYQ\\'l\\'~Lwj/CsVF#\\\\> q5/eyxH/U \\x0cf\\r).BF\\rt`}PD}NL2h^?8\"$H<S\\x0cP/(>Db{L;@xR6Jp]|!#uOUg}p5zwv-\\\\GQW^S j\\r)V 8X?@RG 7ta(/d, Wb\\n@%e8$Hezq=-\\x0cZ})t$p%X\\r+beGDbL\\x0bK`9\\x0c@Pldwo1k51]~b;C3G/E5G3@r~-uxP1hz1h.rJ5]A\"lsfa+Kxf~I8c9TNGmjS4#H3i95CJ%82ykyfh-n6})LTIO4\"+`ibo}oLao^r?A^d9C:P)8X?];CxN/k#EEbgP\\x0buxA}4W\\x0c-l ,5Hh)-s Bqe$b~B8tR2nr!7$Ud?sVFr:>q\\r(H&2%o3X\\t3F{+nB4qY$eHLXN*tF.?\\x0ch*G,@\\x0cB/bP`HD(;/?kxJv@X[TR-@_Spw.!vVn$QcN9nuQ\\\\6b4oeZVMh\\'EDf9S\"8i)=\\x0c_t:p\\n/]JF|-\\'HTx[IO41zX*|qbUiJ.PVg8\\x0co,41e0j-LMGL)K|d9 b>hoMu3AE|gw?|5-5+ekJPhuQ\\\\6b4g2#\\x0cau>~j|>/\\\\\"z&rJd u09)ra?mP{%xL$N14|z@s|\\rT*\\x0bO.*D8\\x0b<@w[{khb<\\rEbe3G/rDESoa~\\ti_mBb$4w=7\\nzIQw^;>J*\\\\0z7XU#Rfh[oE$U\\'P\\'f&M@m7u$R&2qK9k\\t!Hx<s8O6YP*6A7\\\\2Sh^Q1Q^\\'~>bBEG\\\\X\"V10!/{6Bij}ptY94!ozwtw t3>-Wl|!db`[X\\tN8w&a_7oX-\"?Iszb#@_JW%9Jr=j\\x0bm\\'}T5iNLXBY3[%]X9&Wq9?1\\x0b\\rfv@1+P3B`.+l;LCj(W?\\t\"GTu,v2R(2h|FV$\\x0ch_t%Mab\\nVX`BeK\\x0cau>~j$\\re1<V&r\\\\{tbsh$sa}/;\\'nT\\tZf \",w5|b^X*waq@UL\\tK,X3ZYP%ZXBSo=K#!bG3@a\\r-9942bp2ky:J5Ie\\tx4:V9=V 8XVw>&[`\\x0b!\"^\\'P\\'VF?VJ &%JQ\\x0bJs5)\\'y3\\rz[+O?X5a97b$BJ?.w?Rnd<(CC(M/6]c$)~\\tOp0[bkp\\tY\\x0c@_C$8Ye7@\\']BkM~fJAc}j_oH#.ShJohD,z&3wFAK_tH\\r]J>%H\\nys!}6Y4+g1zUpd7H$/Jq@_?h\\n,Xo2UXGb;bV-=WoiX+b@q!+~%wB4y&Y@7@\\'\\x0cQ#*;&U7oxG_XewR2la:j)j8\\\\{zvW\\\\{w-ye^\\x0coZ]Us8fx%tB\",1X[Yk)*\\ta@^r?AKx<ZZUb(];PDa;m/i-x\\'@g!=5*f!MQ;tg\\t8I$tkwpkJKc0\\rZZRMDau>~jw2#(-iFf@7q6{\\n$>\\rHmOis;\\tiIx2BY@mb^aUL{qk_Hy:zvo2YE8\\'c.;('"
      ]
     },
     "execution_count": 18,
     "metadata": {},
     "output_type": "execute_result"
    }
   ],
   "source": [
    "es = encode(s)\n",
    "es"
   ]
  },
  {
   "cell_type": "code",
   "execution_count": 19,
   "metadata": {},
   "outputs": [
    {
     "name": "stdout",
     "output_type": "stream",
     "text": [
      "Decoding...\n"
     ]
    },
    {
     "data": {
      "text/plain": [
       "'ENCODED COMMUNICATIONS OF WORLD WAR II MYSTERY WRAPPED IN AN ENIGMA During warfare, one of the key aspects of communications is the ability to transmit messages within the military and allies in utter secrecy and security. Today this is fairly easy with the plethora of high-tech digital encryption systems that are available. However, during World War II, the need for secrecy forced allies and enemies alike to develop their own various forms of encrypted communication. The methods used were numerous. They included traditional practices such as placing spies and sending trained carrier pigeons, as well as newer electronic encryption systems. When the Germans developed a new machine, they thought it was completely undecipherable.  The German machine was known as Enigma. It resembled a typewriter that could produce highly encrypted text messages. To use the Enigma, the operator first typed the text. Then, by turning a few wheels, they could scramble the message through the machine. On the receiving end, the other operator would need to set their machine with the same wheel or rotor order to unscramble the message. Codebooks were distributed to message operators so that they could enter in the correct decryption key when receiving a transmission. Originally the Enigma had been invented for commercial purposes, before the German military saw its obvious potential.  In theory, if the Germans had stuck to strong standardized operating procedures, their codes would indeed have proven almost impossible to decipher. However, they became careless when it came to this aspect, which ultimately became the main weakness that helped the Allies to decrypt the codes. As the German troops were attacking fast and relentlessly, it became vital for the Allies to intercept and decrypt their intelligence. At the end of 1932, the Cipher Bureau in Poland obtained an Enigma machine. They shared their information with the British and French to develop code-breaking techniques. To create a dedicated effort towards this end, the British government set up the Code and Cipher School, located in Buckinghamshires Bletchley Park. There, they brought in experts in mathematics, logic, and problem solving. These new recruits worked together to create prototypes of electronic machines (comparable to computers) to produce decryption on a larger and faster scale. They kept these efforts highly secretive so that word would not leak to the German forces. Still believing their codes to be fully secure, the Germans had by this time adopted the Enigma ciphers within their army, navy, air force, and secret services. In the early days, a few ciphers were cracked but revealed little helpful information. In 1941, new decryptions revealed information about Germanys plans for invading Greece. Soon after, the experts at Bletchley decrypted secret intelligence regarding the Italian navy, resulting in an Allied victory during the Battle of Cape Matapan.  Subsequently, further messages that were intercepted and decoded helped the Allied troops gain a significant advantage. Even after the war, these encoded communication machines and techniques greatly influenced a number of other areas, especially in the field of computer science and electronic communications.'"
      ]
     },
     "execution_count": 19,
     "metadata": {},
     "output_type": "execute_result"
    }
   ],
   "source": [
    "decode(es)"
   ]
  },
  {
   "cell_type": "code",
   "execution_count": null,
   "metadata": {},
   "outputs": [],
   "source": []
  },
  {
   "cell_type": "code",
   "execution_count": null,
   "metadata": {},
   "outputs": [],
   "source": []
  }
 ],
 "metadata": {
  "kernelspec": {
   "display_name": "data_science",
   "language": "python",
   "name": "data_science"
  },
  "language_info": {
   "codemirror_mode": {
    "name": "ipython",
    "version": 3
   },
   "file_extension": ".py",
   "mimetype": "text/x-python",
   "name": "python",
   "nbconvert_exporter": "python",
   "pygments_lexer": "ipython3",
   "version": "3.6.7"
  }
 },
 "nbformat": 4,
 "nbformat_minor": 2
}
