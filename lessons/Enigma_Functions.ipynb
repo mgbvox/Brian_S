{
 "cells": [
  {
   "cell_type": "code",
   "execution_count": 3,
   "metadata": {},
   "outputs": [
    {
     "name": "stdout",
     "output_type": "stream",
     "text": [
      "Populating the interactive namespace from numpy and matplotlib\n"
     ]
    }
   ],
   "source": [
    "%pylab inline\n",
    "\n",
    "import string\n",
    "import re\n",
    "from tqdm import tqdm"
   ]
  },
  {
   "cell_type": "code",
   "execution_count": 4,
   "metadata": {},
   "outputs": [],
   "source": [
    "def gen_rotor(chars):\n",
    "    scrambled = np.random.choice(list(chars), len(chars), replace=False)\n",
    "    return dict(zip(list(chars), scrambled))\n",
    "\n",
    "def shift(r, n):\n",
    "    imap = {i:v for i, (k,v) in enumerate(r.items())}\n",
    "    return {k:imap[(i+n)%len(imap)] for i, (k,v) in enumerate(r.items())}\n",
    "\n",
    "def forward(c, r_set):\n",
    "    e_hist = []\n",
    "    e = c\n",
    "    for r in r_set:\n",
    "        e_hist.append(e)\n",
    "        e = r[e]\n",
    "    return e\n",
    "\n",
    "def rdict(d):\n",
    "    return {v:k for k,v in d.items()}\n",
    "\n",
    "def backward(e, r_set):\n",
    "    c_hist = []\n",
    "    c = e\n",
    "    for r in r_set[::-1]:\n",
    "        r = rdict(r) #reverse dict\n",
    "        c_hist.append(c)\n",
    "        c = r[c]\n",
    "    return c\n",
    "\n",
    "def encode(s):\n",
    "    print('Encoding...')\n",
    "    res = ''\n",
    "    for n, c in enumerate(s):\n",
    "        r_set = shift_sets[n]\n",
    "        res += forward(c, r_set)\n",
    "    return res\n",
    "\n",
    "def decode(es):\n",
    "    print('Decoding...')\n",
    "    res = ''\n",
    "    for n, e in enumerate(es):\n",
    "        r_set = shift_sets[n]\n",
    "        res += backward(e, r_set)\n",
    "    return res\n",
    "\n",
    "def read_text(path):\n",
    "    with open(path, 'r') as f:\n",
    "        text = ' '.join([l.strip() for l in f.readlines()])\n",
    "        text = re.sub(f'[^{chars}]', '', text)\n",
    "        return text"
   ]
  },
  {
   "cell_type": "code",
   "execution_count": 5,
   "metadata": {},
   "outputs": [],
   "source": [
    "chars = string.printable\n",
    "\n",
    "path = 'assets/message.txt'\n",
    "s = 'Hello!'#read_text(path)\n",
    "\n",
    "n_rotors = 5\n",
    "#Generate char cypher rotors (one-to-one mapping ch1 to ch2)\n",
    "rotors = [gen_rotor(chars) for _ in range(n_rotors)]\n",
    "#Pre-calculate shifted rotors for each timestep in the encoding process.\n",
    "shift_sets = {n:[shift(r,n) for r in rotors] for n,c in enumerate(s)}"
   ]
  },
  {
   "cell_type": "code",
   "execution_count": 6,
   "metadata": {},
   "outputs": [
    {
     "name": "stdout",
     "output_type": "stream",
     "text": [
      "Encoding...\n"
     ]
    },
    {
     "data": {
      "text/plain": [
       "'U!yeYE'"
      ]
     },
     "execution_count": 6,
     "metadata": {},
     "output_type": "execute_result"
    }
   ],
   "source": [
    "es = encode(s)\n",
    "es"
   ]
  },
  {
   "cell_type": "code",
   "execution_count": 7,
   "metadata": {},
   "outputs": [
    {
     "name": "stdout",
     "output_type": "stream",
     "text": [
      "Decoding...\n"
     ]
    },
    {
     "data": {
      "text/plain": [
       "'Hello!'"
      ]
     },
     "execution_count": 7,
     "metadata": {},
     "output_type": "execute_result"
    }
   ],
   "source": [
    "decode(es)"
   ]
  },
  {
   "cell_type": "code",
   "execution_count": null,
   "metadata": {},
   "outputs": [],
   "source": []
  },
  {
   "cell_type": "code",
   "execution_count": null,
   "metadata": {},
   "outputs": [],
   "source": []
  }
 ],
 "metadata": {
  "kernelspec": {
   "display_name": "Python 3",
   "language": "python",
   "name": "python3"
  },
  "language_info": {
   "codemirror_mode": {
    "name": "ipython",
    "version": 3
   },
   "file_extension": ".py",
   "mimetype": "text/x-python",
   "name": "python",
   "nbconvert_exporter": "python",
   "pygments_lexer": "ipython3",
   "version": "3.7.4"
  }
 },
 "nbformat": 4,
 "nbformat_minor": 4
}
