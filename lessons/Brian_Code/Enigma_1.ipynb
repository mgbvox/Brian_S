{
 "cells": [
  {
   "cell_type": "code",
   "execution_count": 4,
   "metadata": {},
   "outputs": [
    {
     "name": "stdout",
     "output_type": "stream",
     "text": [
      "Populating the interactive namespace from numpy and matplotlib\n"
     ]
    }
   ],
   "source": [
    "%pylab inline\n",
    "import string"
   ]
  },
  {
   "cell_type": "code",
   "execution_count": 5,
   "metadata": {},
   "outputs": [],
   "source": [
    "chars = string.ascii_lowercase"
   ]
  },
  {
   "cell_type": "code",
   "execution_count": 6,
   "metadata": {},
   "outputs": [
    {
     "data": {
      "text/plain": [
       "array([ 1,  2,  3,  4,  5,  6,  7,  8,  9, 10, 11, 12, 13, 14, 15, 16, 17,\n",
       "       18, 19, 20, 21, 22, 23, 24, 25, 26, 27, 28, 29, 30, 31, 32, 33, 34,\n",
       "       35, 36, 37, 38, 39, 40, 41, 42, 43, 44, 45, 46, 47, 48, 49, 50, 51,\n",
       "       52, 53, 54, 55, 56, 57, 58, 59, 60, 61, 62, 63, 64, 65, 66, 67, 68,\n",
       "       69, 70, 71, 72, 73, 74, 75, 76, 77, 78, 79, 80, 81, 82, 83, 84, 85,\n",
       "       86, 87, 88, 89, 90, 91, 92, 93, 94, 95, 96, 97, 98, 99])"
      ]
     },
     "execution_count": 6,
     "metadata": {},
     "output_type": "execute_result"
    }
   ],
   "source": [
    "r = np.arange(1,100)\n",
    "r"
   ]
  },
  {
   "cell_type": "code",
   "execution_count": 7,
   "metadata": {},
   "outputs": [
    {
     "name": "stdout",
     "output_type": "stream",
     "text": [
      "[1, 4, 9, 16, 25, 36, 49, 64, 81, 100, 121, 144, 169, 196, 225, 256, 289, 324, 361, 400, 441, 484, 529, 576, 625, 676, 729, 784, 841, 900, 961, 1024, 1089, 1156, 1225, 1296, 1369, 1444, 1521, 1600, 1681, 1764, 1849, 1936, 2025, 2116, 2209, 2304, 2401, 2500, 2601, 2704, 2809, 2916, 3025, 3136, 3249, 3364, 3481, 3600, 3721, 3844, 3969, 4096, 4225, 4356, 4489, 4624, 4761, 4900, 5041, 5184, 5329, 5476, 5625, 5776, 5929, 6084, 6241, 6400, 6561, 6724, 6889, 7056, 7225, 7396, 7569, 7744, 7921, 8100, 8281, 8464, 8649, 8836, 9025, 9216, 9409, 9604, 9801]\n"
     ]
    }
   ],
   "source": [
    "squares=[]\n",
    "for a in r:\n",
    "    squares.append(a**2)\n",
    "print(squares)"
   ]
  },
  {
   "cell_type": "code",
   "execution_count": 8,
   "metadata": {
    "collapsed": true,
    "jupyter": {
     "outputs_hidden": true
    }
   },
   "outputs": [
    {
     "data": {
      "text/plain": [
       "{1: 1,\n",
       " 2: 4,\n",
       " 3: 9,\n",
       " 4: 16,\n",
       " 5: 25,\n",
       " 6: 36,\n",
       " 7: 49,\n",
       " 8: 64,\n",
       " 9: 81,\n",
       " 10: 100,\n",
       " 11: 121,\n",
       " 12: 144,\n",
       " 13: 169,\n",
       " 14: 196,\n",
       " 15: 225,\n",
       " 16: 256,\n",
       " 17: 289,\n",
       " 18: 324,\n",
       " 19: 361,\n",
       " 20: 400,\n",
       " 21: 441,\n",
       " 22: 484,\n",
       " 23: 529,\n",
       " 24: 576,\n",
       " 25: 625,\n",
       " 26: 676,\n",
       " 27: 729,\n",
       " 28: 784,\n",
       " 29: 841,\n",
       " 30: 900,\n",
       " 31: 961,\n",
       " 32: 1024,\n",
       " 33: 1089,\n",
       " 34: 1156,\n",
       " 35: 1225,\n",
       " 36: 1296,\n",
       " 37: 1369,\n",
       " 38: 1444,\n",
       " 39: 1521,\n",
       " 40: 1600,\n",
       " 41: 1681,\n",
       " 42: 1764,\n",
       " 43: 1849,\n",
       " 44: 1936,\n",
       " 45: 2025,\n",
       " 46: 2116,\n",
       " 47: 2209,\n",
       " 48: 2304,\n",
       " 49: 2401,\n",
       " 50: 2500,\n",
       " 51: 2601,\n",
       " 52: 2704,\n",
       " 53: 2809,\n",
       " 54: 2916,\n",
       " 55: 3025,\n",
       " 56: 3136,\n",
       " 57: 3249,\n",
       " 58: 3364,\n",
       " 59: 3481,\n",
       " 60: 3600,\n",
       " 61: 3721,\n",
       " 62: 3844,\n",
       " 63: 3969,\n",
       " 64: 4096,\n",
       " 65: 4225,\n",
       " 66: 4356,\n",
       " 67: 4489,\n",
       " 68: 4624,\n",
       " 69: 4761,\n",
       " 70: 4900,\n",
       " 71: 5041,\n",
       " 72: 5184,\n",
       " 73: 5329,\n",
       " 74: 5476,\n",
       " 75: 5625,\n",
       " 76: 5776,\n",
       " 77: 5929,\n",
       " 78: 6084,\n",
       " 79: 6241,\n",
       " 80: 6400,\n",
       " 81: 6561,\n",
       " 82: 6724,\n",
       " 83: 6889,\n",
       " 84: 7056,\n",
       " 85: 7225,\n",
       " 86: 7396,\n",
       " 87: 7569,\n",
       " 88: 7744,\n",
       " 89: 7921,\n",
       " 90: 8100,\n",
       " 91: 8281,\n",
       " 92: 8464,\n",
       " 93: 8649,\n",
       " 94: 8836,\n",
       " 95: 9025,\n",
       " 96: 9216,\n",
       " 97: 9409,\n",
       " 98: 9604,\n",
       " 99: 9801}"
      ]
     },
     "execution_count": 8,
     "metadata": {},
     "output_type": "execute_result"
    }
   ],
   "source": [
    "{a:a**2 for a in r}"
   ]
  },
  {
   "cell_type": "code",
   "execution_count": 9,
   "metadata": {},
   "outputs": [],
   "source": [
    "def get_rotor(charset = chars):\n",
    "    charset = list(charset)\n",
    "    shuffled = np.random.choice(charset, len(charset), replace=False)\n",
    "    rotor = dict(zip(charset, shuffled))\n",
    "    return rotor"
   ]
  },
  {
   "cell_type": "code",
   "execution_count": 10,
   "metadata": {},
   "outputs": [],
   "source": [
    "n_rotors = 5\n",
    "rotors = [get_rotor() for _ in range(n_rotors)]"
   ]
  },
  {
   "cell_type": "code",
   "execution_count": null,
   "metadata": {},
   "outputs": [],
   "source": []
  },
  {
   "cell_type": "code",
   "execution_count": 11,
   "metadata": {},
   "outputs": [],
   "source": [
    "def shift(r, n):\n",
    "    imap = {i:v for i, (k,v) in enumerate(r.items())}\n",
    "    return {k:imap[(i+n)%len(imap)] for i, (k,v) in enumerate(r.items())}\n",
    "\n",
    "def forward(c, r_set):\n",
    "    e = c\n",
    "    for rotor in r_set:\n",
    "        e = rotor[e]\n",
    "    return e\n",
    "\n",
    "def encode(s):\n",
    "    print('Encoding...')\n",
    "    res = ''\n",
    "    for n, c in enumerate(s):\n",
    "        r_set = shift_sets[n]\n",
    "        res += forward(c, r_set)\n",
    "    return res"
   ]
  },
  {
   "cell_type": "code",
   "execution_count": 12,
   "metadata": {},
   "outputs": [
    {
     "name": "stdout",
     "output_type": "stream",
     "text": [
      "Encoding...\n",
      "gozga\n"
     ]
    }
   ],
   "source": [
    "\n",
    "s = 'hello'\n",
    "\n",
    "n_rotors = 5\n",
    "#Generate char cypher rotors (one-to-one mapping ch1 to ch2)\n",
    "rotors = [get_rotor(chars) for _ in range(n_rotors)]\n",
    "#Pre-calculate shifted rotors for each timestep in the encoding process.\n",
    "shift_sets = {n:[shift(r,n) for r in rotors] for n,c in enumerate(s)}\n",
    "\n",
    "encrypted = encode(s)\n",
    "print(encrypted)"
   ]
  },
  {
   "cell_type": "code",
   "execution_count": 13,
   "metadata": {},
   "outputs": [],
   "source": [
    "def rdict(r):\n",
    "    return {v:k for k,v in r.items()}"
   ]
  },
  {
   "cell_type": "code",
   "execution_count": 14,
   "metadata": {},
   "outputs": [],
   "source": [
    "def backward(e, r_set):\n",
    "    c = e\n",
    "    for r in r_set[::-1]:\n",
    "        r = rdict(r) #reverse dict\n",
    "        c = r[c]\n",
    "    return c"
   ]
  },
  {
   "cell_type": "code",
   "execution_count": 15,
   "metadata": {},
   "outputs": [],
   "source": [
    "def decode(es):\n",
    "    print('Decoding...')\n",
    "    res = ''\n",
    "    for n, e in enumerate(es):\n",
    "        r_set = shift_sets[n]\n",
    "        res += backward(e, r_set)\n",
    "    return res"
   ]
  },
  {
   "cell_type": "code",
   "execution_count": 16,
   "metadata": {},
   "outputs": [
    {
     "name": "stdout",
     "output_type": "stream",
     "text": [
      "Decoding...\n"
     ]
    },
    {
     "data": {
      "text/plain": [
       "'hello'"
      ]
     },
     "execution_count": 16,
     "metadata": {},
     "output_type": "execute_result"
    }
   ],
   "source": [
    "decode(encrypted)"
   ]
  },
  {
   "cell_type": "code",
   "execution_count": 24,
   "metadata": {},
   "outputs": [],
   "source": [
    "import json\n",
    "\n",
    "mid = 'jtest'\n",
    "\n",
    "j = json.dumps(rotors)\n",
    "f = open(f\"{mid}.json\",\"w\")\n",
    "f.write(j)\n",
    "f.close()"
   ]
  },
  {
   "cell_type": "code",
   "execution_count": 27,
   "metadata": {},
   "outputs": [
    {
     "data": {
      "text/plain": [
       "[{'a': 'z',\n",
       "  'b': 'x',\n",
       "  'c': 'j',\n",
       "  'd': 'q',\n",
       "  'e': 'm',\n",
       "  'f': 'w',\n",
       "  'g': 'v',\n",
       "  'h': 's',\n",
       "  'i': 'o',\n",
       "  'j': 'a',\n",
       "  'k': 'h',\n",
       "  'l': 'd',\n",
       "  'm': 'e',\n",
       "  'n': 'c',\n",
       "  'o': 'y',\n",
       "  'p': 't',\n",
       "  'q': 'n',\n",
       "  'r': 'f',\n",
       "  's': 'k',\n",
       "  't': 'b',\n",
       "  'u': 'r',\n",
       "  'v': 'u',\n",
       "  'w': 'i',\n",
       "  'x': 'p',\n",
       "  'y': 'l',\n",
       "  'z': 'g'},\n",
       " {'a': 'f',\n",
       "  'b': 'i',\n",
       "  'c': 'b',\n",
       "  'd': 'g',\n",
       "  'e': 'y',\n",
       "  'f': 'e',\n",
       "  'g': 'c',\n",
       "  'h': 'q',\n",
       "  'i': 'w',\n",
       "  'j': 'x',\n",
       "  'k': 'h',\n",
       "  'l': 'n',\n",
       "  'm': 'v',\n",
       "  'n': 'u',\n",
       "  'o': 'l',\n",
       "  'p': 'j',\n",
       "  'q': 'p',\n",
       "  'r': 'o',\n",
       "  's': 'd',\n",
       "  't': 'r',\n",
       "  'u': 'z',\n",
       "  'v': 'a',\n",
       "  'w': 'k',\n",
       "  'x': 'm',\n",
       "  'y': 't',\n",
       "  'z': 's'},\n",
       " {'a': 'w',\n",
       "  'b': 'g',\n",
       "  'c': 'd',\n",
       "  'd': 'o',\n",
       "  'e': 'u',\n",
       "  'f': 'f',\n",
       "  'g': 'b',\n",
       "  'h': 'l',\n",
       "  'i': 'r',\n",
       "  'j': 'a',\n",
       "  'k': 'e',\n",
       "  'l': 'i',\n",
       "  'm': 'm',\n",
       "  'n': 'c',\n",
       "  'o': 't',\n",
       "  'p': 'p',\n",
       "  'q': 'j',\n",
       "  'r': 'h',\n",
       "  's': 'z',\n",
       "  't': 'k',\n",
       "  'u': 'y',\n",
       "  'v': 'q',\n",
       "  'w': 'x',\n",
       "  'x': 's',\n",
       "  'y': 'n',\n",
       "  'z': 'v'},\n",
       " {'a': 't',\n",
       "  'b': 'x',\n",
       "  'c': 'h',\n",
       "  'd': 'f',\n",
       "  'e': 'u',\n",
       "  'f': 'k',\n",
       "  'g': 'z',\n",
       "  'h': 'a',\n",
       "  'i': 'q',\n",
       "  'j': 'n',\n",
       "  'k': 'w',\n",
       "  'l': 'o',\n",
       "  'm': 'l',\n",
       "  'n': 'i',\n",
       "  'o': 'r',\n",
       "  'p': 'e',\n",
       "  'q': 'b',\n",
       "  'r': 'p',\n",
       "  's': 's',\n",
       "  't': 'v',\n",
       "  'u': 'j',\n",
       "  'v': 'm',\n",
       "  'w': 'g',\n",
       "  'x': 'c',\n",
       "  'y': 'd',\n",
       "  'z': 'y'},\n",
       " {'a': 'v',\n",
       "  'b': 'u',\n",
       "  'c': 'k',\n",
       "  'd': 'i',\n",
       "  'e': 'm',\n",
       "  'f': 'z',\n",
       "  'g': 'o',\n",
       "  'h': 'd',\n",
       "  'i': 'q',\n",
       "  'j': 't',\n",
       "  'k': 'p',\n",
       "  'l': 'y',\n",
       "  'm': 'w',\n",
       "  'n': 'e',\n",
       "  'o': 'h',\n",
       "  'p': 'j',\n",
       "  'q': 'f',\n",
       "  'r': 'g',\n",
       "  's': 'c',\n",
       "  't': 'b',\n",
       "  'u': 'x',\n",
       "  'v': 'r',\n",
       "  'w': 'l',\n",
       "  'x': 's',\n",
       "  'y': 'n',\n",
       "  'z': 'a'}]"
      ]
     },
     "execution_count": 27,
     "metadata": {},
     "output_type": "execute_result"
    }
   ],
   "source": [
    "\n",
    "with open('jtest.json') as json_file:\n",
    "    data = json.load(json_file)\n",
    "    \n",
    "data"
   ]
  },
  {
   "cell_type": "code",
   "execution_count": 3,
   "metadata": {},
   "outputs": [
    {
     "ename": "ValueError",
     "evalue": "Object arrays cannot be loaded when allow_pickle=False",
     "output_type": "error",
     "traceback": [
      "\u001b[0;31m---------------------------------------------------------------------------\u001b[0m",
      "\u001b[0;31mValueError\u001b[0m                                Traceback (most recent call last)",
      "\u001b[0;32m<ipython-input-3-bd0ab8b44217>\u001b[0m in \u001b[0;36m<module>\u001b[0;34m\u001b[0m\n\u001b[0;32m----> 1\u001b[0;31m \u001b[0mnp\u001b[0m\u001b[0;34m.\u001b[0m\u001b[0mload\u001b[0m\u001b[0;34m(\u001b[0m\u001b[0;34m'test_rotors.npy'\u001b[0m\u001b[0;34m)\u001b[0m\u001b[0;34m\u001b[0m\u001b[0;34m\u001b[0m\u001b[0m\n\u001b[0m",
      "\u001b[0;32m~/anaconda3/envs/data_science/lib/python3.6/site-packages/numpy/lib/npyio.py\u001b[0m in \u001b[0;36mload\u001b[0;34m(file, mmap_mode, allow_pickle, fix_imports, encoding)\u001b[0m\n\u001b[1;32m    451\u001b[0m             \u001b[0;32melse\u001b[0m\u001b[0;34m:\u001b[0m\u001b[0;34m\u001b[0m\u001b[0;34m\u001b[0m\u001b[0m\n\u001b[1;32m    452\u001b[0m                 return format.read_array(fid, allow_pickle=allow_pickle,\n\u001b[0;32m--> 453\u001b[0;31m                                          pickle_kwargs=pickle_kwargs)\n\u001b[0m\u001b[1;32m    454\u001b[0m         \u001b[0;32melse\u001b[0m\u001b[0;34m:\u001b[0m\u001b[0;34m\u001b[0m\u001b[0;34m\u001b[0m\u001b[0m\n\u001b[1;32m    455\u001b[0m             \u001b[0;31m# Try a pickle\u001b[0m\u001b[0;34m\u001b[0m\u001b[0;34m\u001b[0m\u001b[0;34m\u001b[0m\u001b[0m\n",
      "\u001b[0;32m~/anaconda3/envs/data_science/lib/python3.6/site-packages/numpy/lib/format.py\u001b[0m in \u001b[0;36mread_array\u001b[0;34m(fp, allow_pickle, pickle_kwargs)\u001b[0m\n\u001b[1;32m    720\u001b[0m         \u001b[0;31m# The array contained Python objects. We need to unpickle the data.\u001b[0m\u001b[0;34m\u001b[0m\u001b[0;34m\u001b[0m\u001b[0;34m\u001b[0m\u001b[0m\n\u001b[1;32m    721\u001b[0m         \u001b[0;32mif\u001b[0m \u001b[0;32mnot\u001b[0m \u001b[0mallow_pickle\u001b[0m\u001b[0;34m:\u001b[0m\u001b[0;34m\u001b[0m\u001b[0;34m\u001b[0m\u001b[0m\n\u001b[0;32m--> 722\u001b[0;31m             raise ValueError(\"Object arrays cannot be loaded when \"\n\u001b[0m\u001b[1;32m    723\u001b[0m                              \"allow_pickle=False\")\n\u001b[1;32m    724\u001b[0m         \u001b[0;32mif\u001b[0m \u001b[0mpickle_kwargs\u001b[0m \u001b[0;32mis\u001b[0m \u001b[0;32mNone\u001b[0m\u001b[0;34m:\u001b[0m\u001b[0;34m\u001b[0m\u001b[0;34m\u001b[0m\u001b[0m\n",
      "\u001b[0;31mValueError\u001b[0m: Object arrays cannot be loaded when allow_pickle=False"
     ]
    }
   ],
   "source": [
    "np.load('test_rotors.npy')"
   ]
  },
  {
   "cell_type": "code",
   "execution_count": null,
   "metadata": {},
   "outputs": [],
   "source": []
  }
 ],
 "metadata": {
  "kernelspec": {
   "display_name": "Python 3",
   "language": "python",
   "name": "python3"
  },
  "language_info": {
   "codemirror_mode": {
    "name": "ipython",
    "version": 3
   },
   "file_extension": ".py",
   "mimetype": "text/x-python",
   "name": "python",
   "nbconvert_exporter": "python",
   "pygments_lexer": "ipython3",
   "version": "3.6.7"
  }
 },
 "nbformat": 4,
 "nbformat_minor": 4
}
