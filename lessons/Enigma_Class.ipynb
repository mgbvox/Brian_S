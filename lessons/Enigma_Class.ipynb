{
 "cells": [
  {
   "cell_type": "code",
   "execution_count": 1,
   "metadata": {},
   "outputs": [
    {
     "name": "stdout",
     "output_type": "stream",
     "text": [
      "Populating the interactive namespace from numpy and matplotlib\n"
     ]
    }
   ],
   "source": [
    "%load_ext autoreload\n",
    "%autoreload 2\n",
    "%pylab inline\n",
    "\n",
    "from enigma import *\n",
    "import string"
   ]
  },
  {
   "cell_type": "code",
   "execution_count": 2,
   "metadata": {},
   "outputs": [],
   "source": [
    "E = Enigma(n_rotors=10)"
   ]
  },
  {
   "cell_type": "code",
   "execution_count": 4,
   "metadata": {},
   "outputs": [
    {
     "data": {
      "text/plain": [
       "'CzRt\\x0b7|ud$Kxq2)ow`UcfkT~dhXTUdCEuzC=\\x0bL(e%^7-.\\'pg BF_Z^euG]-l=TU\\n=?{#SX<=.Mn8T/Yi.bkhyrn\" TZ\\ti7KxN4P\\x0bqH+fTWt@s@\\x0bq~?>e\\x0c2Dj\\'U`nKG3(FB:Esjy6r l\\x0bj9F.lim1\\x0cGi9;h>{((NQ=b5%]gf#``p\"WV+brt_Gk,O=eL8\\n=j\"~\\r<K<v+U2-)+f\\tQGbYm.}/G4>i[AjA\\tT}w#:C<MRn\"Ey_onN)`V,ngiN;RW=\\x0cyUwi\\t]\\x0b;)s{p>SWM@dT=?`8&lwPdoY\"G|L8\"5fs;Utq(21P0?)FSqWt]Jm7bUe4}`}DY0o\\'f&&! 9\\n:,13g=jvC)}>Fd8S-fRi`wpjP<7}Ms=0Y))E>M\\x0bdUj\\x0c*uz(=Y9.p:=eL8\\n=j\"~.<Q+N1U u$h\\x0b\\r\\\\(\\x0c<@7q/g4x&lihan;yF:!S[m+,s3y{x<(0?R:P3jC?#I}wm3w\\x0b-]$Ru7H:w8/t|3eK8|ZC\\nEl__JW\\reQXGT&;a}7K\\x0cmWU2\\'ihKPb?Y*@Lk^U>h&Q?jcoG1lG~Fu{+gqlcZrlYyt4Df$xZ1R(b]^`\\'p7Z\\x0bY)ia\\r`PW][ML=.Mn&Ut@]0\\'!4$,PC5dZ\\x0b\\r.)8YaDS\\r)6W4\\\\&u\\'?`ktq4=A>6#\"n=;)G\\t(dm\\r:4^kH#\\t(yO4M1#.>?\"t8Spyh\\x0b7+Nju\\t9rHP;B[NRb<wnn\\n\"lQkdI4D>BG`&Xi:\\x0cK>>\\x0c{3~K6rTu:,\\\\@\\x0bq~~U }>6taE`b&(zg-}DDhe@Vo]\\tw0$J1l:Z9R#`+y`\\'\\x0b7gjQ=G9p&lWU?dc\\\\:M_nO=H_kK:\\r3PR\\n56ZZe$gfN~0bY$\\x0b\\x0bTm@]Y1s@Tg%\\'z7!f\"$TXFZq\\\\Kv:8&3PD\\'!x\\x0bjH\\\\.3:/1CYqz!{el]]@Q)B\\x0cyzE+\\x0c|lk3yLGZl=r)0KIXy,E\\'=d\"\\te$gfN3P!~$6\\x0c4I>3Y5VsoV%mYX|fcP5\\rkh:(\\n}@EU4@$/<\\n\\x0bj8d:3\\n]\\\\V\\nMn^m=3<\\x0cN$E=Y32-=]2lp\"l`3\\x0cDjPd!G:hQLNd=f1\\neW(+vbUSo$IS$\\n(ME@ukhV%\\\\V>??P*.KKgJlQcxvqE0{x5x\\x0b}Hdr3z]?CHi9[\\x0cA8d]c:w=5:zEPQ``;VT\\\\neTEldUG:Pq8Fv;dg\\tV\\\\K8n3U2-Kp\\x0b_\\r2>#mr|T;%\\\\V>?\\x0cp)o+k`#(M#N^hJVp|]a$`HFr+.yx`QJ\\x0cj;ej]]cs;ihRzE,2[Z&V-*R7uR^__,Qh|An\\\\;pg6-FK;Y+U2-2X\\x0bTmSuw\\'I<tQN}l>qqAvy1w !td\\t+T!=H=\\t!d$onVt`xZ??6`S!5C{6JdV\\\\Bb\\\\w(H\\x0c2N6t8IZC\\n7=l{dIhDL@\"1j1we|(6N1iuj*oQ\\tuG@7}u<^ZI_A+0qJUoy\"9!Edr\\x0c:1Ek77]!$`2<t3:(\\'`*`wmU>1w]{b;Bqj\\x0cg,h?d-Tl\\\\t&<tqNkEA;eh5G d*De|9+vbUS]$\\x0b7\\r\\r2uJmhb5d>>UX|?a)yKw |(IMo8nlUdrAYst9%1liypWOMgWNK\\x0b-4Us;Ha%]-HAI_RU<Zn87+q\"kYO=3^@\"M:`aetN8A-ES\\rjHQbAt\\r7ps95ZC_&X|?a/.HF5qlQZ+WQK@\\n7p\\n\\x0bj8d:3!/r3#89^\\x0bN\\x0b;[TQ=b{)`EHtI_&L<LG\\x0c\\nKPl-EI\\r\\x0c^N?`&;i\\rl\\t+mkibbqFSGCtN<1|wt\\\\N\\x0c&X(H\\'PT(&BdFdHWEx4hZoHYWqHzn4m/?@PbJjWej]]yswU\\'1~E7g[dKT>\\\\Rf\\n*id!G:hx^P7rfZ\\t}u_fC\\n\\tuo$6 TA@>{x.\\x0c/=IQ}XDaVw=yh`(IT}W?8{g=r (g0N<agx\\tp?Yb98NN\\x0cLpN$@@,Az\"Wt dv\\\\l\\\\3zl3nd:2Whv^Nv{rX~J5)(n\\nWnY$eT$;SMw:tbDd%\\\\V>?#*/T;_h<kbQ0Ex4@=nTyw0RFOJS/=b;=Sp-?0(Wy$j\\x0c\\x0c\\rwl;lI^e\"(UN.pt^P:pdG[^^\"4%1Seh\\t3n-BSY1+r\\tu(Ms\\'IwUd+/.X~YP*TFT`!\\rQxxn\"45>>\\'(n`HCf$xybR\\n83jE?k7:d!)Co\\\\zS:Q5l;V<RZ=<}zH-6!gy8Nv5:XaexK5N3W_\\rK+\\nPQ#;qd7bLl&dzQ %P*5nK`(czvxm1E#Yr [y5$Yw[*^9\\x0cH$\\x0cpWAj74\\x0b$E=Y3vY?ZI^eU82N,=J_dMpdLye4\"Z8sZJ7Q+41P%.xxrv;?,7?Vc\\r;3}nlkj\"*6yzh1\\x0bQ2{E]4@Y7|(+5H,nKS]\\\\Yti9Yte\\x0bp|NjEiaA`EzU``pL\\x0bINzuv^+df=4.8whT&&;V%E;g\\nJ=Gg-\"fGtLJ:Ms/94^A[kmcE5F\"h]SQ2:\\t6*Vr7 /$`$Mw3\\n^J3*89Gm?j]}47)iapaE;[[_Q^-UNz\\nE$a_YOPr8\\n3 {&Z}xd*N\\ni=-xp7+d>Y#?>bLl%\\'z7!f\"$Tb&(IC2M_vOEVWoe(W3RY1lxZ97;Z]!yAU7Z$:fVG3dQ;JI(pblLGZlAld0|>LYhX\"M\\tni-\\x0cKMNB0uY24SPWIu/\\n|j/qx=lX~?6SGu)g{(T}oL6*V=\\'HY\\x0b1HGa2\"pK\\x0b6}z!{eZLJJ;=\\x0cYBw-<Q5l;VT\\\\N\\r\\nwr\"0a!Xy8RG;Tw<-\\x0cKMNB{2RA6\\x0cJQtr<dr&oG%\\x0c`Q?)AwyXF3!I#E:EsoVD\\'!x\\x0bj8dn*\"(B\\x0cYM+Y3h\\x0bdZiT`s{A`E7g[2<\"\\x0b*_+k==i+!kh$>P\"\\x0c8tz:ZK3Y3P0Rx\\x0bSTu2Y#OLRtG~}r\\\\?jd$Ty,:6C<<oo\"G5>onYjtNVg$*^1RW8wjUKU(:7s7Bo{~E\\tZbq&J<wna<Kn+0EdPq|-ZZ&Kw>uNL}+W=%@69vu~zT^Ybo;&}l>qqAvy1w 3(Q}~^se@doTT0?R:Q4%]9RY\"V*ye2\\t*c:*j=3S[/\\x0c?dGTsLN=qtDl6f!,Y^n35CZ/Vu(+}%iuoA6\\x0cJQtY`pu<LG%d}X5WpnaXh`x(g}\\r:4^k$j]D$#Rd.3%m_#PbJrh\\'h\\t]Usz\\t8\\x0cwl3#``p\"fIVa<t=d6,+:.8PG<X6\\t\\r<R+41P\\x0b%*<TGtShYOLRLlvwAQ0q\\'PZul=h(ocxB8=5{3]kHqHFx2zZ 3I(9pR\\x0c!6[ +)0\\x0cBUDWwLZQ5<*n-lAii{b}h|Aw?;\\r1;:1[\\x0cv-0_RHFS*u@M\\n@hs^lt lXl#0v.bKWql<1GV\\r=n=\\'p=;q4F}2%m?3;%JrtC\\t\\\\:jVEBh\\x0c\\x0cSft2lpK8:|Cf=$k!b&h|An\"Y:tDe$\\t;C-Pu%xp\\n4 t>q}r@oZed}\\'iaaF>HTG(lIvo8nEk$(HT)F*dP3u^J3*bdp`\\'\\t;4NVwVF3XEfh\"op^81q77KPH.EIi3LX/;j\"\\x0b:l[3Gk^Su\\t6\\x0cJQt;$:T}/lh}a7(h6n.KK3\\t>dm\\r^6lHdo!J$#zGwu%h?+T~7*tCh(}{R*iG'"
      ]
     },
     "execution_count": 4,
     "metadata": {},
     "output_type": "execute_result"
    }
   ],
   "source": [
    "es = E.encode(from_path = True, path = 'assets/message.txt')\n",
    "es"
   ]
  },
  {
   "cell_type": "code",
   "execution_count": 5,
   "metadata": {},
   "outputs": [
    {
     "name": "stdout",
     "output_type": "stream",
     "text": [
      "Decoding...\n"
     ]
    },
    {
     "data": {
      "text/plain": [
       "'ENCODED COMMUNICATIONS OF WORLD WAR II MYSTERY WRAPPED IN AN ENIGMA During warfare, one of the key aspects of communications is the ability to transmit messages within the military and allies in utter secrecy and security. Today this is fairly easy with the plethora of high-tech digital encryption systems that are available. However, during World War II, the need for secrecy forced allies and enemies alike to develop their own various forms of encrypted communication. The methods used were numerous. They included traditional practices such as placing spies and sending trained carrier pigeons, as well as newer electronic encryption systems. When the Germans developed a new machine, they thought it was completely undecipherable.  The German machine was known as Enigma. It resembled a typewriter that could produce highly encrypted text messages. To use the Enigma, the operator first typed the text. Then, by turning a few wheels, they could scramble the message through the machine. On the receiving end, the other operator would need to set their machine with the same wheel or rotor order to unscramble the message. Codebooks were distributed to message operators so that they could enter in the correct decryption key when receiving a transmission. Originally the Enigma had been invented for commercial purposes, before the German military saw its obvious potential.  In theory, if the Germans had stuck to strong standardized operating procedures, their codes would indeed have proven almost impossible to decipher. However, they became careless when it came to this aspect, which ultimately became the main weakness that helped the Allies to decrypt the codes. As the German troops were attacking fast and relentlessly, it became vital for the Allies to intercept and decrypt their intelligence. At the end of 1932, the Cipher Bureau in Poland obtained an Enigma machine. They shared their information with the British and French to develop code-breaking techniques. To create a dedicated effort towards this end, the British government set up the Code and Cipher School, located in Buckinghamshires Bletchley Park. There, they brought in experts in mathematics, logic, and problem solving. These new recruits worked together to create prototypes of electronic machines (comparable to computers) to produce decryption on a larger and faster scale. They kept these efforts highly secretive so that word would not leak to the German forces. Still believing their codes to be fully secure, the Germans had by this time adopted the Enigma ciphers within their army, navy, air force, and secret services. In the early days, a few ciphers were cracked but revealed little helpful information. In 1941, new decryptions revealed information about Germanys plans for invading Greece. Soon after, the experts at Bletchley decrypted secret intelligence regarding the Italian navy, resulting in an Allied victory during the Battle of Cape Matapan.  Subsequently, further messages that were intercepted and decoded helped the Allied troops gain a significant advantage. Even after the war, these encoded communication machines and techniques greatly influenced a number of other areas, especially in the field of computer science and electronic communications.'"
      ]
     },
     "execution_count": 5,
     "metadata": {},
     "output_type": "execute_result"
    }
   ],
   "source": [
    "E.decode(es)"
   ]
  },
  {
   "cell_type": "code",
   "execution_count": 7,
   "metadata": {},
   "outputs": [],
   "source": [
    "E.save('10r')"
   ]
  }
 ],
 "metadata": {
  "kernelspec": {
   "display_name": "data_science",
   "language": "python",
   "name": "data_science"
  },
  "language_info": {
   "codemirror_mode": {
    "name": "ipython",
    "version": 3
   },
   "file_extension": ".py",
   "mimetype": "text/x-python",
   "name": "python",
   "nbconvert_exporter": "python",
   "pygments_lexer": "ipython3",
   "version": "3.6.7"
  }
 },
 "nbformat": 4,
 "nbformat_minor": 2
}
