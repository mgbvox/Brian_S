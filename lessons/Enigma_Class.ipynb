{
 "cells": [
  {
   "cell_type": "code",
   "execution_count": 1,
   "metadata": {},
   "outputs": [
    {
     "name": "stdout",
     "output_type": "stream",
     "text": [
      "Populating the interactive namespace from numpy and matplotlib\n"
     ]
    }
   ],
   "source": [
    "%load_ext autoreload\n",
    "%autoreload 2\n",
    "%pylab inline\n",
    "\n",
    "from enigma import *\n",
    "import string"
   ]
  },
  {
   "cell_type": "code",
   "execution_count": 2,
   "metadata": {},
   "outputs": [],
   "source": [
    "E = Enigma(n_rotors=10)"
   ]
  },
  {
   "cell_type": "code",
   "execution_count": 6,
   "metadata": {},
   "outputs": [
    {
     "data": {
      "text/plain": [
       "'P8Bac7BF@3sg?\\t@K(_#(|-if~t3%@WLN|iuY78wH\\x0c$Pna[Ori fBKP0qn m_r5)#G,FtR,N`f \\tG=k-1Q5k\\r1~f|qh*|4\\x0c2,pNZ2;\\r-s\"]x=Hf`s!*IEB7P+F[;!\\nAusvwDNHP\"\\tq5{U\\\\<\"g%`e^\\tSw\\x0b]A_|sV4#r%Q&Qe3tGt4T3\\r6VvG}}cxvy7\\nV\\n2<c]fu2<VE3F\\\\~-s$mOUg,JaVuGvsW|+C!i#K\\x0cG:*#y@tW\"*{R013Z{\\n8`F( li.L==PX R3)g\\tFY2TNua&`\\x0c$,?lq~-X#o\\x0c\\t\\nV|1\\'{fn[G6@}ZGY~m#)]x0/,m8F@GLPUPglx\\nZ4,n\\\\VaD*15,YCd/1S|\"4lNi  {Ni0L\\'1.,;VroZbm>}N$aA%c}g+7\\t-@Q/fy7\\nV\\n2<c]2unRp}3EcdpYXD9:=fmsVvGfxt+JM|!\\r#hn[PS+*H5\"R5-we!I^C(6j[MMoivE=7L ^<\\rj!C\\';hS6UJMJ,&WZJ1]2\\'`q7`r+P7u}0\\x0c2KD\\x0c3FW`p>\\x0cXWLlfi/@WIyxrU+px\"S{A48m/+ 9uG`q\"\\'\\x0bu/C@-Jv^ Y>Ehlj5.SRm)iF5.$T8NQb`f \\t?{G2*[t\\x0b]_9\\x0b?1t*efDxVib[\"r~/6}D^FT(\\x0b/pDG1,vxRD|I~3AOsgS,)Z/L_ksw\\x0b`/8P,@B[>bY\\'07F7.\\x0c4@\\r4R-[$\\x0cKNN2+-R\\tPZ11WcJ1]Gjp+ 7>J#v20oxySpz/l\"`F{$f`s!1bt)vxzMp;}44HE{9SIar P{+G ,BGP%_vM wNXLlj7.^-#r\\x0bRFWkT{Ya9\"{ OP\\x0b\\tF]cUfqjpj\\n1o*6iA$&pGkZ2dCY\"z}0g\"jdLvpA\\'xL[D&i;#\\nkr`iDp:58X&hiU\\\\D#g(_\\n^1xkM;<0bU ~#)]\\rVq>g36}~Q\"p|\\x0bl\\tQ#[U1719s62tc|iA$&pOZ1pd/b}WoYgmXNMUp_j@z[pUt0wtGs#9*NM9 +`-jU\\\\&HE(|dZq?P\\\\hD-T|/4oC\\x0cZM+/M81}4T/$s_KU~-fuf\\r^\\n0v2\\'iQiS=RV%3\"\"d=#Op9a-f\\r/ Upz/vUG=4VG\\n5P\\'df\\tX9WmR5KiUSDHZ(sd[1=w\\x0b\"nwl: %(3\\x0cQCq>JRGtzbXB\\t.=J1-WufYId94\\x0btV|`(2V(O3F\\\\zTY $HzK,4\\tL~pz/vUC2oQcwQls1%n4a^\\tvU+I+3D\"ZQ@zQkCR.=60:U %V\\\\ir\\nq>s#N-\\rb\\r}#q\"`S]2x6\\r\\t)fg\\x0baV.ls2uiE3F\\\\jdY\"zsF\\txZ\\x0bpq<L#vcaC\\n9SK(n~gF+DhZ%Y>h2+t9o# Jv[$zN\\';bI|#td ~]1t\\'?O31N^kJq&WZ@v(8J1\\rG\\n:|\"<iEiC=ip}LVTg<|$`O=w{\\r\\x0b@[O5,0yaY[Q\\rncn#g<()1WL6M+8+3u}#(_*lk0Niv=_0c Ag\\\\]qL\\\\eskYa1L/B8?)G_<cYm!7ZA+qt\\'\\x0biC\\x0cRV%3\"ZdC$X$HF/,o8exIv2@zGMo9GK(%sh#^pSu~Uq\\x0c\\'2u<dP%`zO\\\\$P$D\\r:7L4CV\\\\;F&Q/O6jT28-f\\tGMB_?c#vyjh:|r^9}i[)VW\"*\"r/`|WHxCwDj.e[r5x@zGM{V8#ek\\'dK+TU~ TM7jU\\\\&HE(=\\na)wY\\x0bhZ~7*o5#r%\\tb.>OSjT\\rt-p|_Z=~(gY1q}h0C 7uJf3,RD LZ?Im#MKx\\\\=\"Tjph<kx@\\tMFUi\"4\\t 8g.JNN9>`{T\\'[%D|\\n_T\\n[LK>|=v0:U EV3A[SI>\\rINaULuB#vZTd-fuf\\rVh\\x0bNE\\'*|0rQ&k&5V\"d/:\"H}z]VJRV}OP)@PlE\\\\I\\r8QEU=9J=2Y,Yq5wt,z}%8JKO$x>\\x0bf\\r~}Fi4om,urq#TSbay\"/Bs+l.\\t-UT`\\r{h04#3>]}xx6(&-l2d]\"O8sa\\tPY85xpz/vURj{i~vtsR\\rTZNN9 Yg\\t4 ,I\"!bN\\n1lIi\\'0H!gsFEoGz\\r5\\'k\\x0cqjKJTz7:N:GS\\nU/F\\x0c+h_|$Mioi\\r,~(\"b\"29-l$`9aHxZjFxd*7@eg=4i.ZQnGdm\\t@t9:N\\x0b^w=3Dx@-Jz2 ?Y}=U!p.XdA)$ztq2%R\\r}zb-/&))5kYgy\\x0bD1d041^>}i\"2NpO-\\x0crz-g\\x0cmp\\nfGm80m)q\\'r16=4t!\\nQEjzi\\tq1Wq[q5J\\x0b7B(^\\\\V M\\t=p.0vw:.4RoC\\x0cZM)CwEjKJ8JK:/VL}-Z/FH1\\t$|X\"{6}\\x0cnR+}Z[\\rJ~lp8W{w(X\\\\c~9LKt<+D4:\\rCtz2d8fN}9 [Mxww7D{\\nVNdZabw\\x0bO007\"b4@CiFr.>;{Gt4tyq:+\"6S\\x0b3qI]3d wP7#f`jtu9&GLwG\\r9E@x$/P<NV`Gc,W</ppt.nt:[d8Dde3\\t3M5g+3B8^(| h)0Y\\x0bGD!:U,9d)iFFv>\\x0cLNTI=\\r7:+ZJ@`2#vY*d\\\\Tqb#60\"9?p&LL\\\\JT$*woLK(x80mpA\\'xL[D&i}44p:n#&XsW\\t\\'{ew[lI(P%JvM!IEE;7w3.S^(^7(MVJ\\x0c;ji4+/p|\\x0blf1-[pUH Zr|rYaJlv2kp5kV2j(#\\x0c]8Fz}TwVD01#@eG}\\x0b\"y35vs=9^fe3\\tY&T\\'U\\'Dt%o/O;:zoM;<04FtT3rzZi\\'/BR\\r}zbXB:jZqQ?[$\\x0b71dj+\\x0bhy&lv2kp5yFGp/b/mxv=G4>MupkPrUwC\\\\9;#inU!ZDNHl\\tX&hiU\\\\&H\\n}/*i\\txPXOEF7:S,]Dg\\tr.>\\rIN9NTy}O[Y\\tv1q)k\\r_j\\x0b|0\"d/#X2~iOZGGJC#\"`HLKvi,pu2LADU+t&i\\rchV:**^.tx:N{R\\'3uzoO-V ^ lYi==:3sXQV&]zOI>[E(?\\rG-R\\tn)=\\t\\x0b[YFYI]GEX7QE,r)\\x0c\\x0bE-Lve/Hp`_tJ: 8M~)L#vcaC\\n9SK(usd9=4Hr U{\\tRe!I^7_;dM x|6k70`XC%(\\t&9ML)h3Ya[L\\tp:)gGK(xq\\x0bt hfT1]*S`r=R\\x0bvLV\"p/b/mxLjD\\r\\x0b0upq)@/72|6;8Q]sl9,)Z/L+C+$+OIHg(;e\\x0cMK>|(Aj;X CVY4\"q\\'kAtGt4T=q=n)Gv-xx~^3d\\x0b+yXe|fufR+}Z2vg4\"M\\'s;gvi,0mnI,ryaFUby{xZs5f\\t#2Z:Rn+?a%D\"]osv=)MJ\\x0b0($\\r#o\\x0b-)o\\riU*T/=-IX-}\\t5lfd185d\\r\\t) C\\x0bgif#Q KV\"k\\x0cG\\rm#,`}aofoN@m5t#@{Rl\\nV}\\n.k\\'*7h\\'yZRY&7^.%/\"mo;e[)I8|(0I[~X- C]rq\\\\23S1}4MJQWWU\\t@ f5]\\r\\t)f|s^d\\x0biA,uk\"ZVvJTg},xzf{4dM[Hq)=+lM;`8ZAE\\'hi^pSWL+FTR1kWHC(E h)0>e0lj[*44 37{Mo>3k\\'l4=J9{qM=~YQY1hj\\nr^\\x0b<ce#3 ~x h\"cc/b/mx\\n+PcaVmtL;x\\tJ}|VG\\niO-gS,4eu%U{h-+Ott^s;y[T`*mk0I;s,A<\\ti('"
      ]
     },
     "execution_count": 6,
     "metadata": {},
     "output_type": "execute_result"
    }
   ],
   "source": [
    "es = E.encode(from_path = True, path = 'assets/message.txt')\n",
    "es"
   ]
  },
  {
   "cell_type": "code",
   "execution_count": 7,
   "metadata": {},
   "outputs": [
    {
     "name": "stdout",
     "output_type": "stream",
     "text": [
      "Decoding...\n"
     ]
    },
    {
     "data": {
      "text/plain": [
       "'ENCODED COMMUNICATIONS OF WORLD WAR II MYSTERY WRAPPED IN AN ENIGMA During warfare, one of the key aspects of communications is the ability to transmit messages within the military and allies in utter secrecy and security. Today this is fairly easy with the plethora of high-tech digital encryption systems that are available. However, during World War II, the need for secrecy forced allies and enemies alike to develop their own various forms of encrypted communication. The methods used were numerous. They included traditional practices such as placing spies and sending trained carrier pigeons, as well as newer electronic encryption systems. When the Germans developed a new machine, they thought it was completely undecipherable.  The German machine was known as Enigma. It resembled a typewriter that could produce highly encrypted text messages. To use the Enigma, the operator first typed the text. Then, by turning a few wheels, they could scramble the message through the machine. On the receiving end, the other operator would need to set their machine with the same wheel or rotor order to unscramble the message. Codebooks were distributed to message operators so that they could enter in the correct decryption key when receiving a transmission. Originally the Enigma had been invented for commercial purposes, before the German military saw its obvious potential.  In theory, if the Germans had stuck to strong standardized operating procedures, their codes would indeed have proven almost impossible to decipher. However, they became careless when it came to this aspect, which ultimately became the main weakness that helped the Allies to decrypt the codes. As the German troops were attacking fast and relentlessly, it became vital for the Allies to intercept and decrypt their intelligence. At the end of 1932, the Cipher Bureau in Poland obtained an Enigma machine. They shared their information with the British and French to develop code-breaking techniques. To create a dedicated effort towards this end, the British government set up the Code and Cipher School, located in Buckinghamshires Bletchley Park. There, they brought in experts in mathematics, logic, and problem solving. These new recruits worked together to create prototypes of electronic machines (comparable to computers) to produce decryption on a larger and faster scale. They kept these efforts highly secretive so that word would not leak to the German forces. Still believing their codes to be fully secure, the Germans had by this time adopted the Enigma ciphers within their army, navy, air force, and secret services. In the early days, a few ciphers were cracked but revealed little helpful information. In 1941, new decryptions revealed information about Germanys plans for invading Greece. Soon after, the experts at Bletchley decrypted secret intelligence regarding the Italian navy, resulting in an Allied victory during the Battle of Cape Matapan.  Subsequently, further messages that were intercepted and decoded helped the Allied troops gain a significant advantage. Even after the war, these encoded communication machines and techniques greatly influenced a number of other areas, especially in the field of computer science and electronic communications.'"
      ]
     },
     "execution_count": 7,
     "metadata": {},
     "output_type": "execute_result"
    }
   ],
   "source": [
    "E.decode(es)"
   ]
  },
  {
   "cell_type": "code",
   "execution_count": 7,
   "metadata": {},
   "outputs": [],
   "source": [
    "E.save('10r')"
   ]
  }
 ],
 "metadata": {
  "kernelspec": {
   "display_name": "Python 3",
   "language": "python",
   "name": "python3"
  },
  "language_info": {
   "codemirror_mode": {
    "name": "ipython",
    "version": 3
   },
   "file_extension": ".py",
   "mimetype": "text/x-python",
   "name": "python",
   "nbconvert_exporter": "python",
   "pygments_lexer": "ipython3",
   "version": "3.7.4"
  }
 },
 "nbformat": 4,
 "nbformat_minor": 4
}
