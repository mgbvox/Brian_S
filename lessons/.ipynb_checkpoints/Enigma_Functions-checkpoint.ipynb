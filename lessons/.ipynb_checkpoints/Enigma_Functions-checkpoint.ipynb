{
 "cells": [
  {
   "cell_type": "code",
   "execution_count": 1,
   "metadata": {},
   "outputs": [
    {
     "name": "stdout",
     "output_type": "stream",
     "text": [
      "Populating the interactive namespace from numpy and matplotlib\n"
     ]
    }
   ],
   "source": [
    "%pylab inline\n",
    "\n",
    "import string\n",
    "import re\n",
    "from tqdm import tqdm"
   ]
  },
  {
   "cell_type": "code",
   "execution_count": 5,
   "metadata": {},
   "outputs": [],
   "source": [
    "def gen_rotor(chars):\n",
    "    scrambled = np.random.choice(list(chars), len(chars), replace=False)\n",
    "    return dict(zip(list(chars), scrambled))\n",
    "\n",
    "def shift(r, n):\n",
    "    imap = {i:v for i, (k,v) in enumerate(r.items())}\n",
    "    return {k:imap[(i+n)%len(imap)] for i, (k,v) in enumerate(r.items())}\n",
    "\n",
    "def forward(c, r_set):\n",
    "    e_hist = []\n",
    "    e = c\n",
    "    for r in r_set:\n",
    "        e_hist.append(e)\n",
    "        e = r[e]\n",
    "    return e\n",
    "\n",
    "def rdict(d):\n",
    "    return {v:k for k,v in d.items()}\n",
    "\n",
    "def backward(e, r_set):\n",
    "    c_hist = []\n",
    "    c = e\n",
    "    for r in r_set[::-1]:\n",
    "        r = rdict(r) #reverse dict\n",
    "        c_hist.append(c)\n",
    "        c = r[c]\n",
    "    return c\n",
    "\n",
    "def encode(s):\n",
    "    res = ''\n",
    "    for n, c in enumerate(s):\n",
    "        r_set = shift_sets[n]\n",
    "        res += forward(c, r_set)\n",
    "    return res\n",
    "\n",
    "def decode(es):\n",
    "    print('Decoding...')\n",
    "    res = ''\n",
    "    for n, e in enumerate(es):\n",
    "        r_set = shift_sets[n]\n",
    "        res += backward(e, r_set)\n",
    "    return res\n",
    "\n",
    "def read_text(path):\n",
    "    with open(path, 'r') as f:\n",
    "        text = ' '.join([l.strip() for l in f.readlines()])\n",
    "        text = re.sub(f'[^{chars}]', '', text)\n",
    "        return text"
   ]
  },
  {
   "cell_type": "code",
   "execution_count": 6,
   "metadata": {},
   "outputs": [
    {
     "name": "stderr",
     "output_type": "stream",
     "text": [
      "3263it [00:00, 209448.82it/s]\n"
     ]
    }
   ],
   "source": [
    "chars = string.printable\n",
    "\n",
    "path = 'assets/message.txt'\n",
    "s = read_text(path)\n",
    "\n",
    "n_rotors = 5\n",
    "#Generate char cypher rotors (one-to-one mapping ch1 to ch2)\n",
    "rotors = [gen_rotor(chars) for _ in range(n_rotors)]\n",
    "#Pre-calculate shifted rotors for each timestep in the encoding process.\n",
    "shift_sets = {n:[shift(r,n) for r in rotors] for n,c in enumerate(s)}\n",
    "\n",
    "#for _ in range(100):\n",
    "#    assert s==decode(encode(s))\n",
    "    \n",
    "es = encode(s)"
   ]
  },
  {
   "cell_type": "code",
   "execution_count": 8,
   "metadata": {},
   "outputs": [
    {
     "name": "stderr",
     "output_type": "stream",
     "text": [
      "3263it [00:00, 20484.76it/s]"
     ]
    },
    {
     "name": "stdout",
     "output_type": "stream",
     "text": [
      "Decoding...\n"
     ]
    },
    {
     "name": "stderr",
     "output_type": "stream",
     "text": [
      "\n"
     ]
    },
    {
     "data": {
      "text/plain": [
       "'ENCODED COMMUNICATIONS OF WORLD WAR II MYSTERY WRAPPED IN AN ENIGMA During warfare, one of the key aspects of communications is the ability to transmit messages within the military and allies in utter secrecy and security. Today this is fairly easy with the plethora of high-tech digital encryption systems that are available. However, during World War II, the need for secrecy forced allies and enemies alike to develop their own various forms of encrypted communication. The methods used were numerous. They included traditional practices such as placing spies and sending trained carrier pigeons, as well as newer electronic encryption systems. When the Germans developed a new machine, they thought it was completely undecipherable.  The German machine was known as Enigma. It resembled a typewriter that could produce highly encrypted text messages. To use the Enigma, the operator first typed the text. Then, by turning a few wheels, they could scramble the message through the machine. On the receiving end, the other operator would need to set their machine with the same wheel or rotor order to unscramble the message. Codebooks were distributed to message operators so that they could enter in the correct decryption key when receiving a transmission. Originally the Enigma had been invented for commercial purposes, before the German military saw its obvious potential.  In theory, if the Germans had stuck to strong standardized operating procedures, their codes would indeed have proven almost impossible to decipher. However, they became careless when it came to this aspect, which ultimately became the main weakness that helped the Allies to decrypt the codes. As the German troops were attacking fast and relentlessly, it became vital for the Allies to intercept and decrypt their intelligence. At the end of 1932, the Cipher Bureau in Poland obtained an Enigma machine. They shared their information with the British and French to develop code-breaking techniques. To create a dedicated effort towards this end, the British government set up the Code and Cipher School, located in Buckinghamshires Bletchley Park. There, they brought in experts in mathematics, logic, and problem solving. These new recruits worked together to create prototypes of electronic machines (comparable to computers) to produce decryption on a larger and faster scale. They kept these efforts highly secretive so that word would not leak to the German forces. Still believing their codes to be fully secure, the Germans had by this time adopted the Enigma ciphers within their army, navy, air force, and secret services. In the early days, a few ciphers were cracked but revealed little helpful information. In 1941, new decryptions revealed information about Germanys plans for invading Greece. Soon after, the experts at Bletchley decrypted secret intelligence regarding the Italian navy, resulting in an Allied victory during the Battle of Cape Matapan.  Subsequently, further messages that were intercepted and decoded helped the Allied troops gain a significant advantage. Even after the war, these encoded communication machines and techniques greatly influenced a number of other areas, especially in the field of computer science and electronic communications.'"
      ]
     },
     "execution_count": 8,
     "metadata": {},
     "output_type": "execute_result"
    }
   ],
   "source": [
    "decode(es)"
   ]
  },
  {
   "cell_type": "code",
   "execution_count": null,
   "metadata": {},
   "outputs": [],
   "source": []
  }
 ],
 "metadata": {
  "kernelspec": {
   "display_name": "data_science",
   "language": "python",
   "name": "data_science"
  },
  "language_info": {
   "codemirror_mode": {
    "name": "ipython",
    "version": 3
   },
   "file_extension": ".py",
   "mimetype": "text/x-python",
   "name": "python",
   "nbconvert_exporter": "python",
   "pygments_lexer": "ipython3",
   "version": "3.6.7"
  }
 },
 "nbformat": 4,
 "nbformat_minor": 2
}
